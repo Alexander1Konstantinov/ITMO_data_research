{
 "cells": [
  {
   "cell_type": "code",
   "execution_count": 56,
   "id": "976b5802",
   "metadata": {},
   "outputs": [],
   "source": [
    "import pandas as pd\n",
    "import numpy as np"
   ]
  },
  {
   "cell_type": "code",
   "execution_count": 2,
   "id": "a4c936dd",
   "metadata": {},
   "outputs": [
    {
     "data": {
      "text/html": [
       "<div>\n",
       "<style scoped>\n",
       "    .dataframe tbody tr th:only-of-type {\n",
       "        vertical-align: middle;\n",
       "    }\n",
       "\n",
       "    .dataframe tbody tr th {\n",
       "        vertical-align: top;\n",
       "    }\n",
       "\n",
       "    .dataframe thead th {\n",
       "        text-align: right;\n",
       "    }\n",
       "</style>\n",
       "<table border=\"1\" class=\"dataframe\">\n",
       "  <thead>\n",
       "    <tr style=\"text-align: right;\">\n",
       "      <th></th>\n",
       "      <th>transaction_id</th>\n",
       "      <th>customer_id</th>\n",
       "      <th>card_number</th>\n",
       "      <th>timestamp</th>\n",
       "      <th>vendor_category</th>\n",
       "      <th>vendor_type</th>\n",
       "      <th>vendor</th>\n",
       "      <th>amount</th>\n",
       "      <th>currency</th>\n",
       "      <th>country</th>\n",
       "      <th>...</th>\n",
       "      <th>is_card_present</th>\n",
       "      <th>device</th>\n",
       "      <th>channel</th>\n",
       "      <th>device_fingerprint</th>\n",
       "      <th>ip_address</th>\n",
       "      <th>is_outside_home_country</th>\n",
       "      <th>is_high_risk_vendor</th>\n",
       "      <th>is_weekend</th>\n",
       "      <th>last_hour_activity</th>\n",
       "      <th>is_fraud</th>\n",
       "    </tr>\n",
       "  </thead>\n",
       "  <tbody>\n",
       "    <tr>\n",
       "      <th>0</th>\n",
       "      <td>TX_a0ad2a2a</td>\n",
       "      <td>CUST_72886</td>\n",
       "      <td>6646734767813109</td>\n",
       "      <td>2024-09-30 00:00:01.034820</td>\n",
       "      <td>Restaurant</td>\n",
       "      <td>fast_food</td>\n",
       "      <td>Taco Bell</td>\n",
       "      <td>294.87</td>\n",
       "      <td>GBP</td>\n",
       "      <td>UK</td>\n",
       "      <td>...</td>\n",
       "      <td>False</td>\n",
       "      <td>iOS App</td>\n",
       "      <td>mobile</td>\n",
       "      <td>e8e6160445c935fd0001501e4cbac8bc</td>\n",
       "      <td>197.153.60.199</td>\n",
       "      <td>False</td>\n",
       "      <td>False</td>\n",
       "      <td>False</td>\n",
       "      <td>{'num_transactions': 1197, 'total_amount': 334...</td>\n",
       "      <td>False</td>\n",
       "    </tr>\n",
       "    <tr>\n",
       "      <th>1</th>\n",
       "      <td>TX_3599c101</td>\n",
       "      <td>CUST_70474</td>\n",
       "      <td>376800864692727</td>\n",
       "      <td>2024-09-30 00:00:01.764464</td>\n",
       "      <td>Entertainment</td>\n",
       "      <td>gaming</td>\n",
       "      <td>Steam</td>\n",
       "      <td>3368.97</td>\n",
       "      <td>BRL</td>\n",
       "      <td>Brazil</td>\n",
       "      <td>...</td>\n",
       "      <td>False</td>\n",
       "      <td>Edge</td>\n",
       "      <td>web</td>\n",
       "      <td>a73043a57091e775af37f252b3a32af9</td>\n",
       "      <td>208.123.221.203</td>\n",
       "      <td>True</td>\n",
       "      <td>True</td>\n",
       "      <td>False</td>\n",
       "      <td>{'num_transactions': 509, 'total_amount': 2011...</td>\n",
       "      <td>True</td>\n",
       "    </tr>\n",
       "    <tr>\n",
       "      <th>2</th>\n",
       "      <td>TX_a9461c6d</td>\n",
       "      <td>CUST_10715</td>\n",
       "      <td>5251909460951913</td>\n",
       "      <td>2024-09-30 00:00:02.273762</td>\n",
       "      <td>Grocery</td>\n",
       "      <td>physical</td>\n",
       "      <td>Whole Foods</td>\n",
       "      <td>102582.38</td>\n",
       "      <td>JPY</td>\n",
       "      <td>Japan</td>\n",
       "      <td>...</td>\n",
       "      <td>False</td>\n",
       "      <td>Firefox</td>\n",
       "      <td>web</td>\n",
       "      <td>218864e94ceaa41577d216b149722261</td>\n",
       "      <td>10.194.159.204</td>\n",
       "      <td>False</td>\n",
       "      <td>False</td>\n",
       "      <td>False</td>\n",
       "      <td>{'num_transactions': 332, 'total_amount': 3916...</td>\n",
       "      <td>False</td>\n",
       "    </tr>\n",
       "    <tr>\n",
       "      <th>3</th>\n",
       "      <td>TX_7be21fc4</td>\n",
       "      <td>CUST_16193</td>\n",
       "      <td>376079286931183</td>\n",
       "      <td>2024-09-30 00:00:02.297466</td>\n",
       "      <td>Gas</td>\n",
       "      <td>major</td>\n",
       "      <td>Exxon</td>\n",
       "      <td>630.60</td>\n",
       "      <td>AUD</td>\n",
       "      <td>Australia</td>\n",
       "      <td>...</td>\n",
       "      <td>False</td>\n",
       "      <td>iOS App</td>\n",
       "      <td>mobile</td>\n",
       "      <td>70423fa3a1e74d01203cf93b51b9631d</td>\n",
       "      <td>17.230.177.225</td>\n",
       "      <td>False</td>\n",
       "      <td>False</td>\n",
       "      <td>False</td>\n",
       "      <td>{'num_transactions': 764, 'total_amount': 2201...</td>\n",
       "      <td>False</td>\n",
       "    </tr>\n",
       "    <tr>\n",
       "      <th>4</th>\n",
       "      <td>TX_150f490b</td>\n",
       "      <td>CUST_87572</td>\n",
       "      <td>6172948052178810</td>\n",
       "      <td>2024-09-30 00:00:02.544063</td>\n",
       "      <td>Healthcare</td>\n",
       "      <td>medical</td>\n",
       "      <td>Medical Center</td>\n",
       "      <td>724949.27</td>\n",
       "      <td>NGN</td>\n",
       "      <td>Nigeria</td>\n",
       "      <td>...</td>\n",
       "      <td>False</td>\n",
       "      <td>Chrome</td>\n",
       "      <td>web</td>\n",
       "      <td>9880776c7b6038f2af86bd4e18a1b1a4</td>\n",
       "      <td>136.241.219.151</td>\n",
       "      <td>True</td>\n",
       "      <td>False</td>\n",
       "      <td>False</td>\n",
       "      <td>{'num_transactions': 218, 'total_amount': 4827...</td>\n",
       "      <td>True</td>\n",
       "    </tr>\n",
       "  </tbody>\n",
       "</table>\n",
       "<p>5 rows × 23 columns</p>\n",
       "</div>"
      ],
      "text/plain": [
       "  transaction_id customer_id       card_number                  timestamp  \\\n",
       "0    TX_a0ad2a2a  CUST_72886  6646734767813109 2024-09-30 00:00:01.034820   \n",
       "1    TX_3599c101  CUST_70474   376800864692727 2024-09-30 00:00:01.764464   \n",
       "2    TX_a9461c6d  CUST_10715  5251909460951913 2024-09-30 00:00:02.273762   \n",
       "3    TX_7be21fc4  CUST_16193   376079286931183 2024-09-30 00:00:02.297466   \n",
       "4    TX_150f490b  CUST_87572  6172948052178810 2024-09-30 00:00:02.544063   \n",
       "\n",
       "  vendor_category vendor_type          vendor     amount currency    country  \\\n",
       "0      Restaurant   fast_food       Taco Bell     294.87      GBP         UK   \n",
       "1   Entertainment      gaming           Steam    3368.97      BRL     Brazil   \n",
       "2         Grocery    physical     Whole Foods  102582.38      JPY      Japan   \n",
       "3             Gas       major           Exxon     630.60      AUD  Australia   \n",
       "4      Healthcare     medical  Medical Center  724949.27      NGN    Nigeria   \n",
       "\n",
       "   ... is_card_present   device channel                device_fingerprint  \\\n",
       "0  ...           False  iOS App  mobile  e8e6160445c935fd0001501e4cbac8bc   \n",
       "1  ...           False     Edge     web  a73043a57091e775af37f252b3a32af9   \n",
       "2  ...           False  Firefox     web  218864e94ceaa41577d216b149722261   \n",
       "3  ...           False  iOS App  mobile  70423fa3a1e74d01203cf93b51b9631d   \n",
       "4  ...           False   Chrome     web  9880776c7b6038f2af86bd4e18a1b1a4   \n",
       "\n",
       "        ip_address is_outside_home_country is_high_risk_vendor is_weekend  \\\n",
       "0   197.153.60.199                   False               False      False   \n",
       "1  208.123.221.203                    True                True      False   \n",
       "2   10.194.159.204                   False               False      False   \n",
       "3   17.230.177.225                   False               False      False   \n",
       "4  136.241.219.151                    True               False      False   \n",
       "\n",
       "                                  last_hour_activity  is_fraud  \n",
       "0  {'num_transactions': 1197, 'total_amount': 334...     False  \n",
       "1  {'num_transactions': 509, 'total_amount': 2011...      True  \n",
       "2  {'num_transactions': 332, 'total_amount': 3916...     False  \n",
       "3  {'num_transactions': 764, 'total_amount': 2201...     False  \n",
       "4  {'num_transactions': 218, 'total_amount': 4827...      True  \n",
       "\n",
       "[5 rows x 23 columns]"
      ]
     },
     "execution_count": 2,
     "metadata": {},
     "output_type": "execute_result"
    }
   ],
   "source": [
    "data = pd.read_parquet(\"data/transaction_fraud_data.parquet\")\n",
    "data.head()"
   ]
  },
  {
   "cell_type": "code",
   "execution_count": 5,
   "id": "c70c4410",
   "metadata": {},
   "outputs": [
    {
     "data": {
      "text/plain": [
       "np.float64(0.19972818498066347)"
      ]
     },
     "execution_count": 5,
     "metadata": {},
     "output_type": "execute_result"
    }
   ],
   "source": [
    "data['is_fraud'].mean()"
   ]
  },
  {
   "cell_type": "code",
   "execution_count": 10,
   "id": "bb2a4058",
   "metadata": {},
   "outputs": [
    {
     "data": {
      "text/plain": [
       "country\n",
       "Germany       37205\n",
       "Canada        37278\n",
       "USA           37312\n",
       "UK            37345\n",
       "Singapore     37414\n",
       "France        37426\n",
       "Japan         37592\n",
       "Australia     37652\n",
       "Nigeria      298600\n",
       "Brazil       298629\n",
       "Mexico       298841\n",
       "Russia       299425\n",
       "Name: is_fraud, dtype: int64"
      ]
     },
     "execution_count": 10,
     "metadata": {},
     "output_type": "execute_result"
    }
   ],
   "source": [
    "data.groupby(by='country')['is_fraud'].sum().sort_values()"
   ]
  },
  {
   "cell_type": "markdown",
   "id": "9ee2df40",
   "metadata": {},
   "source": [
    "# ??????\n"
   ]
  },
  {
   "cell_type": "code",
   "execution_count": 13,
   "id": "f9353ea6",
   "metadata": {},
   "outputs": [
    {
     "data": {
      "text/plain": [
       "np.float64(409.14292416411735)"
      ]
     },
     "execution_count": 13,
     "metadata": {},
     "output_type": "execute_result"
    }
   ],
   "source": [
    "data['last_hour_activity'].apply(lambda x: x['num_transactions']).mean()"
   ]
  },
  {
   "cell_type": "code",
   "execution_count": 15,
   "id": "168b2f88",
   "metadata": {},
   "outputs": [
    {
     "data": {
      "text/plain": [
       "np.float64(0.19998632451602943)"
      ]
     },
     "execution_count": 15,
     "metadata": {},
     "output_type": "execute_result"
    }
   ],
   "source": [
    "data[data['is_high_risk_vendor'] == True]['is_fraud'].mean()"
   ]
  },
  {
   "cell_type": "code",
   "execution_count": 17,
   "id": "c4e05480",
   "metadata": {},
   "outputs": [
    {
     "data": {
      "text/plain": [
       "city\n",
       "Dallas            562.399533\n",
       "Philadelphia      563.464431\n",
       "Los Angeles       563.900769\n",
       "Houston           564.961388\n",
       "Chicago           565.277374\n",
       "San Diego         565.593140\n",
       "Phoenix           565.730142\n",
       "San Jose          567.263760\n",
       "San Antonio       567.921894\n",
       "New York          568.872467\n",
       "Unknown City    51315.780071\n",
       "Name: amount, dtype: float64"
      ]
     },
     "execution_count": 17,
     "metadata": {},
     "output_type": "execute_result"
    }
   ],
   "source": [
    "data.groupby(by='city')['amount'].mean().sort_values()"
   ]
  },
  {
   "cell_type": "code",
   "execution_count": 18,
   "id": "30a04039",
   "metadata": {},
   "outputs": [
    {
     "data": {
      "text/plain": [
       "array(['Restaurant', 'Entertainment', 'Grocery', 'Gas', 'Healthcare',\n",
       "       'Education', 'Travel', 'Retail'], dtype=object)"
      ]
     },
     "execution_count": 18,
     "metadata": {},
     "output_type": "execute_result"
    }
   ],
   "source": [
    "data['vendor_category'].unique()"
   ]
  },
  {
   "cell_type": "code",
   "execution_count": 7,
   "id": "258da0d7",
   "metadata": {},
   "outputs": [
    {
     "data": {
      "text/plain": [
       "city\n",
       "Phoenix           242.334715\n",
       "Philadelphia      243.440463\n",
       "Houston           246.913137\n",
       "San Jose          247.892502\n",
       "Dallas            248.685716\n",
       "San Diego         254.343884\n",
       "Los Angeles       255.950324\n",
       "San Antonio       258.169691\n",
       "New York          263.296441\n",
       "Chicago           264.450281\n",
       "Unknown City    15214.407916\n",
       "Name: amount, dtype: float64"
      ]
     },
     "execution_count": 7,
     "metadata": {},
     "output_type": "execute_result"
    }
   ],
   "source": [
    "data[data['vendor_type'] == 'fast_food'].groupby(by='city')['amount'].mean().sort_values()"
   ]
  },
  {
   "cell_type": "code",
   "execution_count": 3,
   "id": "016f9094",
   "metadata": {},
   "outputs": [
    {
     "name": "stderr",
     "output_type": "stream",
     "text": [
      "<>:1: SyntaxWarning: invalid escape sequence '\\h'\n",
      "<>:1: SyntaxWarning: invalid escape sequence '\\h'\n",
      "C:\\Users\\mrcho\\AppData\\Local\\Temp\\ipykernel_15016\\2143820909.py:1: SyntaxWarning: invalid escape sequence '\\h'\n",
      "  data_cur = pd.read_parquet('data\\historical_currency_exchange.parquet')\n"
     ]
    }
   ],
   "source": [
    "data_cur = pd.read_parquet('data\\historical_currency_exchange.parquet')"
   ]
  },
  {
   "cell_type": "code",
   "execution_count": 4,
   "id": "2e45189d",
   "metadata": {},
   "outputs": [
    {
     "data": {
      "text/html": [
       "<div>\n",
       "<style scoped>\n",
       "    .dataframe tbody tr th:only-of-type {\n",
       "        vertical-align: middle;\n",
       "    }\n",
       "\n",
       "    .dataframe tbody tr th {\n",
       "        vertical-align: top;\n",
       "    }\n",
       "\n",
       "    .dataframe thead th {\n",
       "        text-align: right;\n",
       "    }\n",
       "</style>\n",
       "<table border=\"1\" class=\"dataframe\">\n",
       "  <thead>\n",
       "    <tr style=\"text-align: right;\">\n",
       "      <th></th>\n",
       "      <th>date</th>\n",
       "      <th>AUD</th>\n",
       "      <th>BRL</th>\n",
       "      <th>CAD</th>\n",
       "      <th>EUR</th>\n",
       "      <th>GBP</th>\n",
       "      <th>JPY</th>\n",
       "      <th>MXN</th>\n",
       "      <th>NGN</th>\n",
       "      <th>RUB</th>\n",
       "      <th>SGD</th>\n",
       "      <th>USD</th>\n",
       "    </tr>\n",
       "  </thead>\n",
       "  <tbody>\n",
       "    <tr>\n",
       "      <th>0</th>\n",
       "      <td>2024-09-30</td>\n",
       "      <td>1.443654</td>\n",
       "      <td>5.434649</td>\n",
       "      <td>1.351196</td>\n",
       "      <td>0.895591</td>\n",
       "      <td>0.747153</td>\n",
       "      <td>142.573268</td>\n",
       "      <td>19.694724</td>\n",
       "      <td>1668.736400</td>\n",
       "      <td>94.133735</td>\n",
       "      <td>1.280156</td>\n",
       "      <td>1</td>\n",
       "    </tr>\n",
       "    <tr>\n",
       "      <th>1</th>\n",
       "      <td>2024-10-01</td>\n",
       "      <td>1.442917</td>\n",
       "      <td>5.444170</td>\n",
       "      <td>1.352168</td>\n",
       "      <td>0.897557</td>\n",
       "      <td>0.746956</td>\n",
       "      <td>143.831429</td>\n",
       "      <td>19.667561</td>\n",
       "      <td>1670.694524</td>\n",
       "      <td>92.898519</td>\n",
       "      <td>1.284352</td>\n",
       "      <td>1</td>\n",
       "    </tr>\n",
       "    <tr>\n",
       "      <th>2</th>\n",
       "      <td>2024-10-02</td>\n",
       "      <td>1.449505</td>\n",
       "      <td>5.425444</td>\n",
       "      <td>1.348063</td>\n",
       "      <td>0.903056</td>\n",
       "      <td>0.752241</td>\n",
       "      <td>143.806861</td>\n",
       "      <td>19.606748</td>\n",
       "      <td>1669.653006</td>\n",
       "      <td>94.583198</td>\n",
       "      <td>1.286983</td>\n",
       "      <td>1</td>\n",
       "    </tr>\n",
       "    <tr>\n",
       "      <th>3</th>\n",
       "      <td>2024-10-03</td>\n",
       "      <td>1.456279</td>\n",
       "      <td>5.442044</td>\n",
       "      <td>1.351451</td>\n",
       "      <td>0.906018</td>\n",
       "      <td>0.754584</td>\n",
       "      <td>146.916773</td>\n",
       "      <td>19.457701</td>\n",
       "      <td>1670.097873</td>\n",
       "      <td>95.655442</td>\n",
       "      <td>1.294391</td>\n",
       "      <td>1</td>\n",
       "    </tr>\n",
       "    <tr>\n",
       "      <th>4</th>\n",
       "      <td>2024-10-04</td>\n",
       "      <td>1.460930</td>\n",
       "      <td>5.477788</td>\n",
       "      <td>1.355260</td>\n",
       "      <td>0.906452</td>\n",
       "      <td>0.761891</td>\n",
       "      <td>146.592323</td>\n",
       "      <td>19.363467</td>\n",
       "      <td>1649.763738</td>\n",
       "      <td>94.755337</td>\n",
       "      <td>1.296800</td>\n",
       "      <td>1</td>\n",
       "    </tr>\n",
       "  </tbody>\n",
       "</table>\n",
       "</div>"
      ],
      "text/plain": [
       "         date       AUD       BRL       CAD       EUR       GBP         JPY  \\\n",
       "0  2024-09-30  1.443654  5.434649  1.351196  0.895591  0.747153  142.573268   \n",
       "1  2024-10-01  1.442917  5.444170  1.352168  0.897557  0.746956  143.831429   \n",
       "2  2024-10-02  1.449505  5.425444  1.348063  0.903056  0.752241  143.806861   \n",
       "3  2024-10-03  1.456279  5.442044  1.351451  0.906018  0.754584  146.916773   \n",
       "4  2024-10-04  1.460930  5.477788  1.355260  0.906452  0.761891  146.592323   \n",
       "\n",
       "         MXN          NGN        RUB       SGD  USD  \n",
       "0  19.694724  1668.736400  94.133735  1.280156    1  \n",
       "1  19.667561  1670.694524  92.898519  1.284352    1  \n",
       "2  19.606748  1669.653006  94.583198  1.286983    1  \n",
       "3  19.457701  1670.097873  95.655442  1.294391    1  \n",
       "4  19.363467  1649.763738  94.755337  1.296800    1  "
      ]
     },
     "execution_count": 4,
     "metadata": {},
     "output_type": "execute_result"
    }
   ],
   "source": [
    "data_cur.head()"
   ]
  },
  {
   "cell_type": "code",
   "execution_count": 23,
   "id": "94852725",
   "metadata": {},
   "outputs": [],
   "source": [
    "data['date'] = data['timestamp'].dt.date"
   ]
  },
  {
   "cell_type": "code",
   "execution_count": 39,
   "id": "753dfc10",
   "metadata": {},
   "outputs": [],
   "source": [
    "data_joined = data.merge(data_cur, on='date', how='left')"
   ]
  },
  {
   "cell_type": "code",
   "execution_count": 41,
   "id": "cbde50ce",
   "metadata": {},
   "outputs": [
    {
     "data": {
      "text/plain": [
       "Index(['transaction_id', 'customer_id', 'card_number', 'timestamp',\n",
       "       'vendor_category', 'vendor_type', 'vendor', 'amount', 'currency',\n",
       "       'country', 'city', 'city_size', 'card_type', 'is_card_present',\n",
       "       'device', 'channel', 'device_fingerprint', 'ip_address',\n",
       "       'is_outside_home_country', 'is_high_risk_vendor', 'is_weekend',\n",
       "       'last_hour_activity', 'is_fraud', 'date', 'AUD', 'BRL', 'CAD', 'EUR',\n",
       "       'GBP', 'JPY', 'MXN', 'NGN', 'RUB', 'SGD', 'USD'],\n",
       "      dtype='object')"
      ]
     },
     "execution_count": 41,
     "metadata": {},
     "output_type": "execute_result"
    }
   ],
   "source": [
    "data_joined.columns"
   ]
  },
  {
   "cell_type": "code",
   "execution_count": null,
   "id": "de3a4508",
   "metadata": {},
   "outputs": [],
   "source": [
    "data_joined['amount_usd'] = data_joined.apply(\n",
    "    lambda row: row['amount'] / row[row['currency']] if row['currency'] != 'USD' else row['amount'],\n",
    "    axis=1\n",
    ")"
   ]
  },
  {
   "cell_type": "code",
   "execution_count": 49,
   "id": "1fe36d24",
   "metadata": {},
   "outputs": [
    {
     "data": {
      "text/plain": [
       "np.float64(417.0077334756039)"
      ]
     },
     "execution_count": 49,
     "metadata": {},
     "output_type": "execute_result"
    }
   ],
   "source": [
    "data_joined[data_joined['is_fraud'] == False]['amount_usd'].std(ddof=1)"
   ]
  },
  {
   "cell_type": "code",
   "execution_count": 50,
   "id": "57fc59ef",
   "metadata": {},
   "outputs": [
    {
     "data": {
      "text/plain": [
       "np.float64(874.6067503080814)"
      ]
     },
     "execution_count": 50,
     "metadata": {},
     "output_type": "execute_result"
    }
   ],
   "source": [
    "data_joined[data_joined['is_fraud'] == True]['amount_usd'].mean()"
   ]
  },
  {
   "cell_type": "code",
   "execution_count": 53,
   "id": "8ef52248",
   "metadata": {},
   "outputs": [
    {
     "data": {
      "text/plain": [
       "np.float64(1349.882692206744)"
      ]
     },
     "execution_count": 53,
     "metadata": {},
     "output_type": "execute_result"
    }
   ],
   "source": [
    "data_joined[data_joined['is_fraud'] == True]['amount_usd'].std(ddof=1)"
   ]
  },
  {
   "cell_type": "code",
   "execution_count": 59,
   "id": "9341cd68",
   "metadata": {},
   "outputs": [],
   "source": [
    "prep_data = data.copy()\n",
    "prep_data['last_hour_activity'] = data['last_hour_activity'].apply(lambda x: x['unique_merchants'])"
   ]
  },
  {
   "cell_type": "code",
   "execution_count": 61,
   "id": "8eaa24d0",
   "metadata": {},
   "outputs": [],
   "source": [
    "customers = prep_data.groupby(by='customer_id')['last_hour_activity'].median()"
   ]
  },
  {
   "cell_type": "code",
   "execution_count": 65,
   "id": "659c370f",
   "metadata": {},
   "outputs": [
    {
     "data": {
      "text/plain": [
       "229"
      ]
     },
     "execution_count": 65,
     "metadata": {},
     "output_type": "execute_result"
    }
   ],
   "source": [
    "sum(customers > customers.quantile(0.95))"
   ]
  },
  {
   "cell_type": "code",
   "execution_count": 68,
   "id": "3c909e90",
   "metadata": {},
   "outputs": [
    {
     "data": {
      "text/plain": [
       "np.float64(64.04263366878895)"
      ]
     },
     "execution_count": 68,
     "metadata": {},
     "output_type": "execute_result"
    }
   ],
   "source": [
    "data['hour'] = data['timestamp'].dt.hour\n",
    "transactions_per_hour = data.groupby(['customer_id', 'hour'])['transaction_id'].count().reset_index()\n",
    "\n",
    "\n",
    "avg_transactions_per_hour = transactions_per_hour.groupby('customer_id')['transaction_id'].mean().mean()\n",
    "\n",
    "avg_transactions_per_hour"
   ]
  },
  {
   "cell_type": "code",
   "execution_count": 67,
   "id": "ac337056",
   "metadata": {},
   "outputs": [
    {
     "data": {
      "text/html": [
       "<div>\n",
       "<style scoped>\n",
       "    .dataframe tbody tr th:only-of-type {\n",
       "        vertical-align: middle;\n",
       "    }\n",
       "\n",
       "    .dataframe tbody tr th {\n",
       "        vertical-align: top;\n",
       "    }\n",
       "\n",
       "    .dataframe thead th {\n",
       "        text-align: right;\n",
       "    }\n",
       "</style>\n",
       "<table border=\"1\" class=\"dataframe\">\n",
       "  <thead>\n",
       "    <tr style=\"text-align: right;\">\n",
       "      <th></th>\n",
       "      <th>customer_id</th>\n",
       "      <th>hour</th>\n",
       "      <th>transaction_id</th>\n",
       "    </tr>\n",
       "  </thead>\n",
       "  <tbody>\n",
       "    <tr>\n",
       "      <th>0</th>\n",
       "      <td>CUST_10000</td>\n",
       "      <td>0</td>\n",
       "      <td>28</td>\n",
       "    </tr>\n",
       "    <tr>\n",
       "      <th>1</th>\n",
       "      <td>CUST_10000</td>\n",
       "      <td>1</td>\n",
       "      <td>55</td>\n",
       "    </tr>\n",
       "    <tr>\n",
       "      <th>2</th>\n",
       "      <td>CUST_10000</td>\n",
       "      <td>2</td>\n",
       "      <td>53</td>\n",
       "    </tr>\n",
       "    <tr>\n",
       "      <th>3</th>\n",
       "      <td>CUST_10000</td>\n",
       "      <td>3</td>\n",
       "      <td>49</td>\n",
       "    </tr>\n",
       "    <tr>\n",
       "      <th>4</th>\n",
       "      <td>CUST_10000</td>\n",
       "      <td>4</td>\n",
       "      <td>57</td>\n",
       "    </tr>\n",
       "    <tr>\n",
       "      <th>...</th>\n",
       "      <td>...</td>\n",
       "      <td>...</td>\n",
       "      <td>...</td>\n",
       "    </tr>\n",
       "    <tr>\n",
       "      <th>116851</th>\n",
       "      <td>CUST_99971</td>\n",
       "      <td>19</td>\n",
       "      <td>103</td>\n",
       "    </tr>\n",
       "    <tr>\n",
       "      <th>116852</th>\n",
       "      <td>CUST_99971</td>\n",
       "      <td>20</td>\n",
       "      <td>74</td>\n",
       "    </tr>\n",
       "    <tr>\n",
       "      <th>116853</th>\n",
       "      <td>CUST_99971</td>\n",
       "      <td>21</td>\n",
       "      <td>42</td>\n",
       "    </tr>\n",
       "    <tr>\n",
       "      <th>116854</th>\n",
       "      <td>CUST_99971</td>\n",
       "      <td>22</td>\n",
       "      <td>106</td>\n",
       "    </tr>\n",
       "    <tr>\n",
       "      <th>116855</th>\n",
       "      <td>CUST_99971</td>\n",
       "      <td>23</td>\n",
       "      <td>101</td>\n",
       "    </tr>\n",
       "  </tbody>\n",
       "</table>\n",
       "<p>116856 rows × 3 columns</p>\n",
       "</div>"
      ],
      "text/plain": [
       "       customer_id  hour  transaction_id\n",
       "0       CUST_10000     0              28\n",
       "1       CUST_10000     1              55\n",
       "2       CUST_10000     2              53\n",
       "3       CUST_10000     3              49\n",
       "4       CUST_10000     4              57\n",
       "...            ...   ...             ...\n",
       "116851  CUST_99971    19             103\n",
       "116852  CUST_99971    20              74\n",
       "116853  CUST_99971    21              42\n",
       "116854  CUST_99971    22             106\n",
       "116855  CUST_99971    23             101\n",
       "\n",
       "[116856 rows x 3 columns]"
      ]
     },
     "execution_count": 67,
     "metadata": {},
     "output_type": "execute_result"
    }
   ],
   "source": [
    "transactions_per_hour"
   ]
  }
 ],
 "metadata": {
  "kernelspec": {
   "display_name": ".venv",
   "language": "python",
   "name": "python3"
  },
  "language_info": {
   "codemirror_mode": {
    "name": "ipython",
    "version": 3
   },
   "file_extension": ".py",
   "mimetype": "text/x-python",
   "name": "python",
   "nbconvert_exporter": "python",
   "pygments_lexer": "ipython3",
   "version": "3.13.0"
  }
 },
 "nbformat": 4,
 "nbformat_minor": 5
}
