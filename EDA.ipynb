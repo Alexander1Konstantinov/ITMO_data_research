{
 "cells": [
  {
   "cell_type": "code",
   "execution_count": null,
   "id": "d25cf242",
   "metadata": {},
   "outputs": [],
   "source": [
    "import pandas as pd\n",
    "import numpy as np\n",
    "import matplotlib.pyplot as plt\n",
    "import seaborn as sns\n",
    "# import plotly.express as px\n",
    "import scipy.stats as st"
   ]
  },
  {
   "cell_type": "code",
   "execution_count": null,
   "id": "e26f14e7",
   "metadata": {},
   "outputs": [],
   "source": [
    "data = pd.read_parquet('data/transaction_fraud_data.parquet')\n",
    "data_currency = pd.read_parquet('data/historical_currency_exchange.parquet')"
   ]
  },
  {
   "cell_type": "markdown",
   "id": "19081f81",
   "metadata": {},
   "source": [
    "Перейдём к долларам"
   ]
  },
  {
   "cell_type": "code",
   "execution_count": null,
   "id": "ed96ebc3",
   "metadata": {},
   "outputs": [],
   "source": [
    "data['date'] = data['timestamp'].dt.date"
   ]
  },
  {
   "cell_type": "code",
   "execution_count": null,
   "id": "543a7088",
   "metadata": {},
   "outputs": [],
   "source": [
    "temp_df = data.merge(data_currency, on='date', how='left')\n",
    "temp_df['amount_usd'] = temp_df.apply(\n",
    "    lambda row: row['amount'] / row[row['currency']] if row['currency'] != 'USD' else row['amount'],\n",
    "    axis=1\n",
    ")\n",
    "df = data.copy()\n",
    "df['amount_usd'] = temp_df['amount_usd']"
   ]
  },
  {
   "cell_type": "markdown",
   "id": "2fe831c6",
   "metadata": {},
   "source": [
    "Проверка на пустые значения"
   ]
  },
  {
   "cell_type": "code",
   "execution_count": null,
   "id": "b2c1ddb2",
   "metadata": {},
   "outputs": [],
   "source": [
    "df.isna().sum()"
   ]
  },
  {
   "cell_type": "code",
   "execution_count": null,
   "id": "31ead4db",
   "metadata": {},
   "outputs": [],
   "source": [
    "df.describe()"
   ]
  },
  {
   "cell_type": "code",
   "execution_count": null,
   "id": "6a610fe2",
   "metadata": {},
   "outputs": [],
   "source": [
    "df.info()"
   ]
  },
  {
   "cell_type": "markdown",
   "id": "5687f98a",
   "metadata": {},
   "source": [
    "# EDA"
   ]
  },
  {
   "cell_type": "code",
   "execution_count": null,
   "id": "b0d9acdf",
   "metadata": {},
   "outputs": [],
   "source": [
    "df.head(2)"
   ]
  },
  {
   "cell_type": "markdown",
   "id": "8c1ad018",
   "metadata": {},
   "source": [
    "# Посмотрим на доли классов"
   ]
  },
  {
   "cell_type": "code",
   "execution_count": null,
   "id": "b61f2fce",
   "metadata": {},
   "outputs": [],
   "source": [
    "show_features = [\n",
    "    \"country\",\n",
    "    \"device\",\n",
    "    \"is_outside_home_country\",\n",
    "    \"city_size\",\n",
    "    \"vendor_category\",\n",
    "    \"vendor_type\",\n",
    "    \"city\",\n",
    "    \"channel\",\n",
    "    \"card_type\",\n",
    "    \"is_high_risk_vendor\"\n",
    "]"
   ]
  },
  {
   "cell_type": "code",
   "execution_count": null,
   "id": "6a852854",
   "metadata": {},
   "outputs": [],
   "source": [
    "# def show_pie(feature):\n",
    "#     fig=px.pie(data_frame=df, names=feature, title=f'{feature} class ratio', color_discrete_sequence=px.colors.sequential.Viridis)\n",
    "#     fig.update_traces(textposition='inside', textinfo='value+percent+label')\n",
    "#     fig.show()"
   ]
  },
  {
   "cell_type": "code",
   "execution_count": null,
   "id": "6b3d8091",
   "metadata": {},
   "outputs": [],
   "source": []
  },
  {
   "cell_type": "code",
   "execution_count": null,
   "id": "2f56d674",
   "metadata": {},
   "outputs": [],
   "source": [
    "for feature in show_features:\n",
    "    show_pie(feature)"
   ]
  },
  {
   "cell_type": "markdown",
   "id": "7f37dc03",
   "metadata": {},
   "source": [
    "# Выводы #\n",
    "В некоторых случаях присутствует явный дисбаланс классов, что \n",
    "Что очень важно: целевой класс так же в дисбалансе - мошеннических транзакций намного меньше, чем обычных"
   ]
  },
  {
   "cell_type": "markdown",
   "id": "b1fc6aa3",
   "metadata": {},
   "source": [
    "# Посмотрим на поведение целевого класса в разрезе других признаков"
   ]
  },
  {
   "cell_type": "code",
   "execution_count": null,
   "id": "9d5ba124",
   "metadata": {},
   "outputs": [],
   "source": [
    "df['hour'] = df['timestamp'].dt.hour\n",
    "df['day_of_week'] = df['timestamp'].dt.dayofweek\n",
    "show_features.append('hour')\n",
    "show_features.append('day_of_week')"
   ]
  },
  {
   "cell_type": "code",
   "execution_count": null,
   "id": "90c81915",
   "metadata": {},
   "outputs": [],
   "source": [
    "def show_barplot(feature):\n",
    "    bar_df = df.groupby(feature)['is_fraud'].mean().round(2)\n",
    "\n",
    "    fig = px.bar(data_frame=bar_df, y=bar_df.values, x=bar_df.index, color=bar_df.index,\n",
    "                 color_discrete_sequence=px.colors.sequential.Viridis,\n",
    "                 title=f'Зависимость доли мошеннических операций от признака {feature}', text_auto=True)\n",
    "    fig.show()\n"
   ]
  },
  {
   "cell_type": "code",
   "execution_count": null,
   "id": "210f83e2",
   "metadata": {},
   "outputs": [],
   "source": [
    "df['vendor'].nunique()"
   ]
  },
  {
   "cell_type": "code",
   "execution_count": null,
   "id": "f05e0d6a",
   "metadata": {},
   "outputs": [],
   "source": [
    "show_features = [\n",
    "    \"hour\",\n",
    "    \"day_of_week\",\n",
    "    \"country\",\n",
    "    \"device\",\n",
    "    \"is_outside_home_country\",\n",
    "    \"city_size\",\n",
    "    \"vendor_category\",\n",
    "    \"vendor_type\",\n",
    "    \"city\",\n",
    "    \"channel\",\n",
    "    \"card_type\",\n",
    "    \"is_high_risk_vendor\"\n",
    "]"
   ]
  },
  {
   "cell_type": "code",
   "execution_count": null,
   "id": "6d1c4f19",
   "metadata": {},
   "outputs": [],
   "source": [
    "for feature in show_features:\n",
    "    show_barplot(feature)\n",
    "    "
   ]
  },
  {
   "cell_type": "markdown",
   "id": "d971d7df",
   "metadata": {},
   "source": [
    "# Выводы #\n",
    "1) Мошеннические операции намного чаще производят поздней ночью\n",
    "2) Активность мошенничества не зависит от дня недели, является ли категория вендора рискованной, типа карты, города (если он известен), вендора\n",
    "3) Видим, что Мексика, Россия, Бразилия и Нигерия сильно выделяются на фоне остальных стран по доли мошеннических операций\n",
    "4) С браузеров и телефонов намного меньше доли мошеннических операций\n",
    "5) Если операция производится вне страны клиента, то высок шанс, что это мошенничество\n",
    "6) В городах поменьше больше шанс, что операция мошенническая"
   ]
  },
  {
   "cell_type": "code",
   "execution_count": null,
   "id": "3d718246",
   "metadata": {},
   "outputs": [],
   "source": [
    "plt.figure(figsize=(10, 6))\n",
    "sns.kdeplot(data=df, x='amount_usd', hue='is_fraud', common_norm=False, log_scale=True)\n",
    "plt.title('Распределение сумм транзакций')\n",
    "plt.show()\n"
   ]
  },
  {
   "cell_type": "markdown",
   "id": "cded6926",
   "metadata": {},
   "source": [
    "Логарифм суммы транзакции при мошеннических операциях имеет бимодальное распределение: пики на малых и крупных суммах"
   ]
  },
  {
   "cell_type": "code",
   "execution_count": null,
   "id": "722f5deb",
   "metadata": {},
   "outputs": [],
   "source": [
    "def show_barplot_amount(feature):\n",
    "    bar_df = df.groupby([feature ,'is_fraud'], as_index=False)['amount_usd'].median().round(0)\n",
    "\n",
    "    fig = px.bar(data_frame=bar_df, y='amount_usd', x=feature, color='is_fraud',\n",
    "                     color_discrete_sequence=px.colors.sequential.Viridis,\n",
    "                     title=f'Зависимость размера оплаты от признаков is_fraud и {feature}', text_auto=True)\n",
    "    fig.update_layout(barmode='group')\n",
    "    fig.show()\n"
   ]
  },
  {
   "cell_type": "code",
   "execution_count": null,
   "id": "b8bf568e",
   "metadata": {},
   "outputs": [],
   "source": [
    "for feature in show_features:\n",
    "    show_barplot_amount(feature)\n",
    "    "
   ]
  },
  {
   "cell_type": "markdown",
   "id": "317fa315",
   "metadata": {},
   "source": [
    "Видим почти везде, что медиана суммы мошеннической транзакции больше медианы обычной "
   ]
  },
  {
   "cell_type": "code",
   "execution_count": null,
   "id": "a29b0eae",
   "metadata": {},
   "outputs": [],
   "source": [
    "last_hour_features = ['num_transactions', 'total_amount', 'unique_merchants', 'unique_countries', 'max_single_amount']\n",
    "for field in last_hour_features:\n",
    "    df[f'last_hour_{field}'] = df['last_hour_activity'].apply(lambda x: x[field])"
   ]
  },
  {
   "cell_type": "code",
   "execution_count": null,
   "id": "bb821eb7",
   "metadata": {},
   "outputs": [],
   "source": [
    "for feature in last_hour_features:\n",
    "    bar_df = df.groupby('is_fraud')[f'last_hour_{feature}'].mean().round(0)\n",
    "\n",
    "    fig = px.bar(data_frame=bar_df, y=f'last_hour_{feature}', color=bar_df.index,\n",
    "                         color_discrete_sequence=px.colors.sequential.Viridis,\n",
    "                         title=f'Зависимость {feature} за последний час от is_fraud', text_auto=True)\n",
    "\n",
    "    fig.show()"
   ]
  },
  {
   "cell_type": "markdown",
   "id": "3c5a1475",
   "metadata": {},
   "source": [
    "Мошенническая транзакция никак не влияет на активность за последний час "
   ]
  },
  {
   "cell_type": "code",
   "execution_count": null,
   "id": "ddc33f9d",
   "metadata": {},
   "outputs": [],
   "source": [
    "plt.figure(figsize=(15,15))\n",
    "sns.heatmap(df.corr(numeric_only=True), annot=True)"
   ]
  },
  {
   "cell_type": "markdown",
   "id": "ad753224",
   "metadata": {},
   "source": [
    "Как видим из корреляционного анализа, на признак `is_fraud` больше всего влияют `is_card_present` и `is_outside_home_country`"
   ]
  },
  {
   "cell_type": "markdown",
   "id": "9f55f73c",
   "metadata": {},
   "source": [
    "# Посмотрим на траты людей в разрезе других признаков"
   ]
  },
  {
   "cell_type": "code",
   "execution_count": null,
   "id": "59b13096",
   "metadata": {},
   "outputs": [],
   "source": [
    "def show_barplot_amount(feature):\n",
    "    bar_df = df[df['is_fraud'] == False].groupby(feature)['amount_usd'].median().sort_values().round()\n",
    "\n",
    "    fig = px.bar(data_frame=bar_df, y=bar_df.values, x=bar_df.index, color=bar_df.index,\n",
    "                 color_discrete_sequence=px.colors.sequential.Viridis,\n",
    "                 title=f'Зависимость медианной суммы транзакции от  признака {feature}', text_auto=True)\n",
    "    fig.show()\n"
   ]
  },
  {
   "cell_type": "code",
   "execution_count": null,
   "id": "c2570ffc",
   "metadata": {},
   "outputs": [],
   "source": [
    "for feature in show_features:\n",
    "    show_barplot_amount(feature)\n",
    "    "
   ]
  },
  {
   "cell_type": "markdown",
   "id": "6e59db14",
   "metadata": {},
   "source": [
    "Выше можно наблюдать, как люди тратят в разрезе различных признаков. Причем всё показано без влияния мошеннических транзакций.\n",
    "# Выводы #\n",
    "1) Сумма транзакции не зависит от времени, является ли категория вендора рискованной, канала проведения транзакции, города, девайса\n",
    "2) Люди с типом карты \"Platinum credit\" намного больше тратят денег, чем люди с другими типами карты\n",
    "3) Больше всего денег тратится на ритейл и путешествия\n",
    "4) В большом городе люди тратятся больше\n",
    "5) Нигерия сильно отстаёт от других стран по меркам трат людей"
   ]
  },
  {
   "cell_type": "markdown",
   "id": "ee09b033",
   "metadata": {},
   "source": [
    "# Статистические тесты"
   ]
  },
  {
   "cell_type": "markdown",
   "id": "8b6950d1",
   "metadata": {},
   "source": [
    "#### Тест Уэлча"
   ]
  },
  {
   "cell_type": "markdown",
   "id": "771f3c47",
   "metadata": {},
   "source": [
    "Первая гипотеза состоит в том, что суммы транзакции в мошеннических операциях в среднем больше сумм транзакции в легитимных.\n",
    "\n",
    "\n",
    "\n",
    "Для проверки этой гипотезы будем использовать односторонний тест Уэлча с $\\alpha = 0.05$"
   ]
  },
  {
   "cell_type": "code",
   "execution_count": null,
   "id": "de01bb5d",
   "metadata": {},
   "outputs": [],
   "source": [
    "first_group = df[df['is_fraud'] == True]['amount_usd']\n",
    "second_group = df[df['is_fraud'] == False]['amount_usd']\n",
    "st.ttest_ind(first_group, second_group, equal_var=False, alternative='greater')"
   ]
  },
  {
   "cell_type": "markdown",
   "id": "03d3b1ba",
   "metadata": {},
   "source": [
    "p-value < $\\alpha$ => отклоняем нулевую гипотезу, что значит подтверждения выдвинутой гипотезы"
   ]
  },
  {
   "cell_type": "code",
   "execution_count": null,
   "id": "407c1b06",
   "metadata": {},
   "outputs": [],
   "source": []
  }
 ],
 "metadata": {
  "kernelspec": {
   "display_name": ".venv",
   "language": "python",
   "name": "python3"
  },
  "language_info": {
   "codemirror_mode": {
    "name": "ipython",
    "version": 3
   },
   "file_extension": ".py",
   "mimetype": "text/x-python",
   "name": "python",
   "nbconvert_exporter": "python",
   "pygments_lexer": "ipython3",
   "version": "3.13.0"
  }
 },
 "nbformat": 4,
 "nbformat_minor": 5
}
